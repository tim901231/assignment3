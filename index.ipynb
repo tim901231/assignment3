{
 "cells": [
  {
   "cell_type": "markdown",
   "id": "32135cbf",
   "metadata": {},
   "source": [
    "## 0. Transmittance Calculation\n",
    "\n",
    "![Transmittance computation](transmittance_calculation/figure1.png)\n",
    "\n",
    "$$\n",
    "\\begin{align}\n",
    "T(y_1, y_2) &= e^{-(1 * 2)} = e^{-2} \\approx 0.135\\\\\n",
    "T(y_2, y_4) &= e^{-(0.5*1 + 10 * 3)} = e^{-31.5} \\approx 2.09 \\times 10^{-14} \\\\\n",
    "T(x, y_4) &= e^{-(1 * 2 + 0.5*1 + 10 * 3)} = e^{-33.5} \\approx 2.83 \\times 10^{-15} \\\\\n",
    "T(x, y_3) &= e^{-(1 * 2 + 0.5*1)} = e^{-3.5} \\approx 3.02 \\times 10^{-2}\n",
    "\\end{align}\n",
    "$$"
   ]
  }
 ],
 "metadata": {
  "language_info": {
   "name": "python"
  }
 },
 "nbformat": 4,
 "nbformat_minor": 5
}
