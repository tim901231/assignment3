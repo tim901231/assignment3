{
 "cells": [
  {
   "cell_type": "markdown",
   "id": "765dc1dc",
   "metadata": {},
   "source": [
    "# Learning for 3D Vision HW3"
   ]
  },
  {
   "cell_type": "markdown",
   "id": "32135cbf",
   "metadata": {},
   "source": [
    "## 0. Transmittance Calculation\n",
    "\n",
    "![Transmittance computation](transmittance_calculation/figure1.png)\n",
    "\n",
    "$$\n",
    "\\begin{align*}\n",
    "T(y_1, y_2) &= e^{-(1 * 2)} = e^{-2} \\approx 0.135\\\\\n",
    "T(y_2, y_4) &= e^{-(0.5*1 + 10 * 3)} = e^{-30.5} \\approx 5.68 \\times 10^{-14} \\\\\n",
    "T(x, y_4) &= e^{-(1 * 2 + 0.5*1 + 10 * 3)} = e^{-32.5} \\approx 7.68 \\times 10^{-15} \\\\\n",
    "T(x, y_3) &= e^{-(1 * 2 + 0.5*1)} = e^{-2.5} \\approx 8.21 \\times 10^{-2}\n",
    "\\end{align*}\n",
    "$$"
   ]
  },
  {
   "cell_type": "markdown",
   "id": "2d4d3562",
   "metadata": {},
   "source": [
    "## 1. Differentiable Volume Rendering\n",
    "\n",
    "### 1.3. Ray sampling\n",
    "\n",
    "![gird](./images/grid.png)\n",
    "![ray](./images/rays.png)\n",
    "\n",
    "### 1.4. Point sampling\n",
    "\n",
    "![sample](./images/sample_points.png)\n",
    "\n",
    "### 1.5. Volume rendering\n",
    "\n",
    "![part1](./images/part_1.gif)\n",
    "![depth](./images/depth.png)\n"
   ]
  },
  {
   "cell_type": "markdown",
   "id": "068a8e89",
   "metadata": {},
   "source": [
    "## 2. Optimizing a basic implicit volume\n",
    "\n",
    "### 2.2. Loss and training\n",
    "\n",
    "Box center: (0.25, 0.25, 0.00);\n",
    "Box side lengths: (2.01, 1.50, 1.50)\n",
    "\n",
    "### 2.3. Visualization\n",
    "\n",
    "![part2](./images/part_2.gif)"
   ]
  },
  {
   "cell_type": "markdown",
   "id": "7dd72c85",
   "metadata": {},
   "source": [
    "## 3. Optimizing a Neural Radiance Field (NeRF)\n",
    "\n",
    "![part3](./images/part_3.gif)"
   ]
  },
  {
   "cell_type": "markdown",
   "id": "261180bb",
   "metadata": {},
   "source": [
    "## 4. NeRF Extras\n",
    "\n",
    "### 4.1 View Dependence\n",
    "\n",
    "**Trade-offs between increased view dependence and generalization quality:** While adding view dependence to models, the models will try to memorize what should the output be, damaging the geralization quality. Follows what was done in NeRF paper, the embeddings of view is added after the prediction of density and one linear layer to output rgb value.\n",
    "\n",
    "![highmaterial](./images/materials_highres.gif)\n",
    "\n",
    "### 4.2 Coarse/Fine Sampling\n",
    "\n",
    "![fine](./images/part_3_fine.gif)\n",
    "\n",
    "The coarse–fine sampling strategy helps us sample more meaningful points along each ray, improving the representation’s accuracy. However, it may increase computational cost by about 1.5×, since it uses 64 points per ray in the coarse network and 128 points per ray in the fine network."
   ]
  },
  {
   "cell_type": "markdown",
   "id": "86fef09b",
   "metadata": {},
   "source": [
    "## 5. Sphere Tracing\n",
    "\n",
    "![part5](./images/part_5.gif)\n",
    "\n",
    "In every iteration, we query SDF to get the distance between the current position to the suface, then we move our points in the direction with that amount, if the SDF output is less than certain value i.e. 1e-3, then we classify it as itersection with surface."
   ]
  },
  {
   "cell_type": "markdown",
   "id": "c788d773",
   "metadata": {},
   "source": [
    "## 6. Optimizing a Neural SDF\n",
    "\n",
    "![part6](./images/part_6.gif)\n",
    "\n",
    "The network architecture is similar as NeRF, 8 layers MLP with hidden dimension 256 output the distance and followed by 4 layer MLP with hidden dimension 128 output the rgb value. The eikonal loss is implement with the norm of gradient should be 1, with a L2 loss penalty."
   ]
  },
  {
   "cell_type": "markdown",
   "id": "b650fc8b",
   "metadata": {},
   "source": [
    "## 7. VolSDF\n",
    "\n",
    "1. With a high beta, the model learns a smoother representation, and with a low beta, it learns a sharper one.\n",
    "2. The SDF can be learned more easily with a high beta, since the surface is smoother.\n",
    "3. A low beta is better for producing a more accurate and sharper surface.\n",
    "\n",
    "| Geometry | Result |\n",
    "|----------|--------|\n",
    "| ![part7geo](./images/part_7_geometry.gif) | ![part7](./images/part_7.gif) |\n",
    "\n",
    "A beta value of 0.05 provides a sharp enough boundary, and an alpha value of 10 provides stable values for empty space and the density inside the object."
   ]
  },
  {
   "cell_type": "markdown",
   "id": "7f87eddb",
   "metadata": {},
   "source": [
    "## 8. Neural Surface Extras \n",
    "\n",
    "### 8.1 Render a Large Scene with Sphere Tracing\n",
    "\n",
    "![part8multiobj](./images/part_8-1.gif)\n",
    "\n",
    "### 8.2 Fewer Training Views\n",
    "\n",
    "| NeRF | VolSDF |\n",
    "|----------|--------|\n",
    "| ![part8nerf](./images/part_3_20images.gif) | ![part8volsdf](./images/part_7_20images.gif) |\n",
    "\n",
    "\n",
    "\n",
    "\n",
    "\n",
    "When decrease the amount of images to 20, NeRF fails to learn the representation, output images are fully black images and VolSDF remain reasonable quality.\n",
    "\n",
    "\n",
    "### 8.3 Alternate SDF to Density Conversions\n",
    "\n",
    "Using the function in NeuS to convert SDF to density, which is the derivative of sigmoid function with a scale factor s, here we select s=100 for experiments.\n",
    "\n",
    "\n",
    "| VolSDF | NeuS |\n",
    "|----------|--------|\n",
    "| ![part8ori](./images/part_7.gif) | ![part8neus](./images/part_7_sigmoid.gif) |\n",
    "| ![part8ori](./images/part_7_geometry.gif) | ![part8neus](./images/part_7_geometry_sigmoid.gif) |\n",
    "\n",
    "The left image shows the original function, and the right one shows the NeuS function. The visual quality remains nearly the same after the function change; the images for NeuS seems brighter. The geometry visualization appears broken, but this may simply be because we didn’t sample with sufficient precision, so it skip the suface."
   ]
  }
 ],
 "metadata": {
  "language_info": {
   "name": "python"
  }
 },
 "nbformat": 4,
 "nbformat_minor": 5
}
