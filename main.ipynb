{
 "cells": [
  {
   "cell_type": "code",
   "execution_count": null,
   "id": "9eec52ae",
   "metadata": {
    "vscode": {
     "languageId": "plaintext"
    }
   },
   "outputs": [],
   "source": [
    "!python volume_rendering_main.py --config-name=box"
   ]
  },
  {
   "cell_type": "code",
   "execution_count": null,
   "id": "552a5356",
   "metadata": {
    "vscode": {
     "languageId": "plaintext"
    }
   },
   "outputs": [],
   "source": [
    "!python volume_rendering_main.py --config-name=train_box"
   ]
  },
  {
   "cell_type": "code",
   "execution_count": null,
   "id": "09863a5f",
   "metadata": {
    "vscode": {
     "languageId": "plaintext"
    }
   },
   "outputs": [],
   "source": [
    "!python volume_rendering_main.py --config-name=nerf_lego"
   ]
  },
  {
   "cell_type": "code",
   "execution_count": null,
   "id": "19238c77",
   "metadata": {
    "vscode": {
     "languageId": "plaintext"
    }
   },
   "outputs": [],
   "source": [
    "!python volume_rendering_main.py --config-name=nerf_materials_highres"
   ]
  },
  {
   "cell_type": "code",
   "execution_count": null,
   "id": "a704ebc1",
   "metadata": {
    "vscode": {
     "languageId": "plaintext"
    }
   },
   "outputs": [],
   "source": [
    "!python volume_rendering_main.py --config-name=nerf_lego_hierarchy"
   ]
  },
  {
   "cell_type": "code",
   "execution_count": null,
   "id": "277a51a4",
   "metadata": {
    "vscode": {
     "languageId": "plaintext"
    }
   },
   "outputs": [],
   "source": [
    "!python -m surface_rendering_main --config-name=torus_surface"
   ]
  },
  {
   "cell_type": "code",
   "execution_count": null,
   "id": "e3fd0d73",
   "metadata": {
    "vscode": {
     "languageId": "plaintext"
    }
   },
   "outputs": [],
   "source": [
    "!python -m surface_rendering_main --config-name=points_surface"
   ]
  },
  {
   "cell_type": "code",
   "execution_count": null,
   "id": "a1b19e09",
   "metadata": {
    "vscode": {
     "languageId": "plaintext"
    }
   },
   "outputs": [],
   "source": [
    "!python -m surface_rendering_main --config-name=volsdf_surface"
   ]
  },
  {
   "cell_type": "code",
   "execution_count": null,
   "id": "36a4cbbb",
   "metadata": {
    "vscode": {
     "languageId": "plaintext"
    }
   },
   "outputs": [],
   "source": [
    "!python -m surface_rendering_main --config-name=composite_surface"
   ]
  }
 ],
 "metadata": {
  "language_info": {
   "name": "python"
  }
 },
 "nbformat": 4,
 "nbformat_minor": 5
}
